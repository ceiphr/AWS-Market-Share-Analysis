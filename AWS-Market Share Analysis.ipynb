{
 "cells": [
  {
   "cell_type": "markdown",
   "metadata": {},
   "source": [
    "# Collection of Simple Random Sample from Alexa Top 1 Million"
   ]
  },
  {
   "cell_type": "code",
   "execution_count": 105,
   "metadata": {
    "scrolled": true
   },
   "outputs": [
    {
     "name": "stdout",
     "output_type": "stream",
     "text": [
      "\u001b[0mGetting IPv4 Address for alphauniverse-latin.com...\n",
      "\u001b[0mGetting IPv4 Address for autozonepromotions.com...\n",
      "\u001b[0mGetting IPv4 Address for citroen.com.pe...\n",
      "\u001b[0mGetting IPv4 Address for ebook-gratuit.co...\n",
      "\u001b[0mGetting IPv4 Address for mika-clinic.com...\n",
      "\u001b[0mGetting IPv4 Address for jamzextra.com...\n",
      "\u001b[0mGetting IPv4 Address for kpe.ru...\n",
      "\u001b[0mGetting IPv4 Address for mpo-fr.ir...\n",
      "\u001b[0mGetting IPv4 Address for cyber.incheon.kr...\n",
      "\u001b[0mGetting IPv4 Address for tsmsco.ir...\n",
      "\u001b[0mGetting IPv4 Address for breaking.lv...\n",
      "\u001b[0mGetting IPv4 Address for futuretimes.co.kr...\n",
      "\u001b[0mGetting IPv4 Address for sellerlift.com...\n",
      "\u001b[0mGetting IPv4 Address for plcnet.org...\n",
      "\u001b[0mGetting IPv4 Address for werkenbijtransavia.com...\n",
      "\u001b[0mGetting IPv4 Address for thebeautysurfer.com...\n",
      "\u001b[0mGetting IPv4 Address for scuolacounseling.eu...\n",
      "\u001b[0mGetting IPv4 Address for naylampmechatronics.com...\n",
      "\u001b[0mGetting IPv4 Address for heartyrise.cn...\n",
      "\u001b[0mGetting IPv4 Address for cvmaker.fr...\n",
      "\u001b[0mGetting IPv4 Address for notable-quotes.com...\n",
      "\u001b[0mGetting IPv4 Address for panhim.com...\n",
      "\u001b[0mGetting IPv4 Address for dar.com...\n",
      "\u001b[0mGetting IPv4 Address for 4frontventures.com...\n",
      "\u001b[0mGetting IPv4 Address for parnianportal.com...\n",
      "\u001b[0mGetting IPv4 Address for greenwoodathletics.com...\n",
      "\u001b[0mGetting IPv4 Address for sounds-stella.jp...\n",
      "\u001b[0mGetting IPv4 Address for langara.bc.ca...\n",
      "\u001b[0mGetting IPv4 Address for mcdonalds.co.id...\n",
      "\u001b[0mGetting IPv4 Address for larawbar.net...\n",
      "\u001b[0mGetting IPv4 Address for abcclim.net...\n",
      "\u001b[0mGetting IPv4 Address for what-song.com...\n",
      "\u001b[0mGetting IPv4 Address for forexultrascalper.com...\n",
      "\u001b[0mGetting IPv4 Address for trimblepaas.com...\n",
      "\u001b[0mGetting IPv4 Address for forum-universe-frankfurt.de...\n",
      "\u001b[0mGetting IPv4 Address for prowareness.nl...\n",
      "\u001b[0mGetting IPv4 Address for toolstore.sk...\n",
      "\u001b[0mGetting IPv4 Address for kwikfunnels.com...\n",
      "\u001b[0mGetting IPv4 Address for tpwebsites.azurewebsites.net...\n",
      "\u001b[0mGetting IPv4 Address for breakbulk.com...\n",
      "\u001b[0mGetting IPv4 Address for theworkingjourney.com...\n",
      "\u001b[0mGetting IPv4 Address for devushkam.info...\n",
      "\u001b[0mGetting IPv4 Address for studentjob.de...\n",
      "\u001b[0mGetting IPv4 Address for sd54.k12.il.us...\n",
      "\u001b[1mFailed. Selecting new site for sample.\n",
      "\u001b[0mGetting IPv4 Address for xiaomilovers.com...\n",
      "\u001b[0mGetting IPv4 Address for enkor24.ru...\n",
      "\u001b[0mGetting IPv4 Address for sb.education...\n",
      "\u001b[0mGetting IPv4 Address for whobycar.com...\n",
      "\u001b[0mGetting IPv4 Address for cocoin.su...\n",
      "\u001b[0mGetting IPv4 Address for poejohnson.com...\n",
      "\u001b[1mFailed. Selecting new site for sample.\n"
     ]
    }
   ],
   "source": [
    "from random import randint\n",
    "import pandas as pd\n",
    "import socket\n",
    "\n",
    "# List of top one million sites according to Alexa Analytics/Website Ranking\n",
    "# https://s3.amazonaws.com/alexa-static/top-1m.csv.zip\n",
    "top_sites = pd.read_csv('top-1m.csv', header=None)[1]\n",
    "\n",
    "sample = {\n",
    "    'Website Domain' : [],\n",
    "    'IPv4 Address' : []\n",
    "}\n",
    "\n",
    "def create_sample(n=50): # n is sample size\n",
    "    for i in range(n):\n",
    "        # Get random number between 0 and 999,999\n",
    "        random_index = randint(0, len(top_sites) - 1)\n",
    "\n",
    "        # If the site has not already been selected, add it to our data set\n",
    "        if not top_sites[random_index] in sample['Website Domain']:\n",
    "            try:\n",
    "                print(\"\\033[0mGetting IPv4 Address for %s...\" % top_sites[random_index])\n",
    "                ipv4 = socket.gethostbyname(top_sites[random_index])\n",
    "            except:\n",
    "                # If we can't resolve the IP from the host name, replace it with a different host name\n",
    "                print(\"\\033[1mFailed. Selecting new site for sample.\")\n",
    "                i -= 1\n",
    "                continue\n",
    "            sample['Website Domain'].append(top_sites[random_index])\n",
    "            sample['IPv4 Address'].append(ipv4)\n",
    "\n",
    "create_sample()\n",
    "\n",
    "# Save sample to a CSV file\n",
    "dataset = pd.DataFrame.from_dict(sample)\n",
    "dataset.to_csv('website_sample.csv')"
   ]
  },
  {
   "cell_type": "markdown",
   "metadata": {},
   "source": [
    "# Determining Proportion of Websites Running AWS"
   ]
  },
  {
   "cell_type": "code",
   "execution_count": 106,
   "metadata": {},
   "outputs": [],
   "source": [
    "import json, requests, ipaddress \n",
    "\n",
    "# List of IP Ranges (IPv4 and IPv6) owned by Amazon and used for AWS\n",
    "# https://ip-ranges.amazonaws.com/ip-ranges.json\n",
    "aws_ip_ranges = json.loads(requests.get('https://ip-ranges.amazonaws.com/ip-ranges.json').text)\n",
    "\n",
    "# Determine if given IP address (ip_input) shows uo in AWS IPv4 Range\n",
    "def check_aws(ip_input):\n",
    "    # Compare given IP to all AWS IP addresses within AWS IPv4 Subnetwork\n",
    "    for i in range(len(aws_ip_ranges['prefixes'])):\n",
    "        site_ip = ipaddress.ip_address(ip_input)\n",
    "        aws_subnet = ipaddress.ip_network(aws_ip_ranges['prefixes'][i]['ip_prefix'])\n",
    "        \n",
    "        # If IP is a part of AWS IPv4 Range, return True\n",
    "        if site_ip in aws_subnet:\n",
    "            return True\n",
    "    return False\n",
    "\n",
    "def get_aws_domains():\n",
    "    aws_websites = []\n",
    "\n",
    "    # Check every IP within our sample against AWS IPv4 Range\n",
    "    for i in range(len(dataset)):\n",
    "        if check_aws(dataset['IPv4 Address'][i]):\n",
    "            aws_websites.append(dataset['Website Domain'][i])\n",
    "\n",
    "    # Save dataset of AWS websites to a CSV file\n",
    "    aws_df = pd.DataFrame({'AWS Websites':aws_websites})\n",
    "    aws_df.to_csv('websites_using_aws.csv')\n",
    "    \n",
    "get_aws_domains()"
   ]
  },
  {
   "cell_type": "markdown",
   "metadata": {},
   "source": [
    "# 1-Proportion Z-Test for Proportion of AWS to non-AWS Websites"
   ]
  },
  {
   "cell_type": "code",
   "execution_count": 9,
   "metadata": {},
   "outputs": [
    {
     "name": "stdout",
     "output_type": "stream",
     "text": [
      "population mean: 43.002372\n",
      "sample mean: 42.388\n"
     ]
    },
    {
     "data": {
      "image/png": "[encoded data removed]",
      "text/plain": [
       "<Figure size 432x288 with 1 Axes>"
      ]
     },
     "metadata": {
      "needs_background": "light"
     },
     "output_type": "display_data"
    },
    {
     "name": "stdout",
     "output_type": "stream",
     "text": [
      "z-critical value: 1.959963984540054\n",
      "point esimate: 42.523\n",
      "Confidence interval: (41.70306406882683, 43.34293593117317)\n"
     ]
    }
   ],
   "source": [
    "import numpy as np\n",
    "import pandas as pd\n",
    "import seaborn as sns\n",
    "import scipy.stats as stats\n",
    "import matplotlib.pyplot as plt\n",
    "from statsmodels.stats.proportion import proportions_ztest\n",
    "from statsmodels.stats.proportion import proportions_chisquare\n",
    "\n",
    "# generate some random number to serve as our population\n",
    "np.random.seed(10)\n",
    "population_ages1 = stats.poisson.rvs(loc = 18, mu = 35, size = 150000)\n",
    "population_ages2 = stats.poisson.rvs(loc = 18, mu = 10, size = 100000)\n",
    "population_ages = np.concatenate((population_ages1, population_ages2))\n",
    "print('population mean:', np.mean(population_ages))\n",
    "\n",
    "np.random.seed(6)\n",
    "sample_ages = np.random.choice(population_ages, size = 500)\n",
    "print('sample mean:', np.mean(sample_ages))\n",
    "\n",
    "np.random.seed(10)\n",
    "samples = 200\n",
    "point_estimates = [np.random.choice(population_ages, size = 500).mean()\n",
    "                   for _ in range(samples)]\n",
    "\n",
    "plt.hist(point_estimates)\n",
    "plt.show()\n",
    "\n",
    "np.random.seed(10)\n",
    "sample_size = 1000\n",
    "sample = np.random.choice(population_ages, size = sample_size)\n",
    "sample_mean = sample.mean()\n",
    "\n",
    "confidence = 0.95\n",
    "z_critical = stats.norm.ppf(q = confidence + (1 - confidence) / 2)\n",
    "print('z-critical value:', z_critical)                     \n",
    "\n",
    "pop_stdev = population_ages.std()\n",
    "margin_of_error = z_critical * (pop_stdev / np.sqrt(sample_size))\n",
    "confint = sample_mean - margin_of_error, sample_mean + margin_of_error\n",
    "print('point esimate:', sample_mean)\n",
    "print('Confidence interval:', confint)"
   ]
  },
  {
   "cell_type": "code",
   "execution_count": null,
   "metadata": {},
   "outputs": [],
   "source": []
  }
 ],
 "metadata": {
  "kernelspec": {
   "display_name": "Python 3",
   "language": "python",
   "name": "python3"
  },
  "language_info": {
   "codemirror_mode": {
    "name": "ipython",
    "version": 3
   },
   "file_extension": ".py",
   "mimetype": "text/x-python",
   "name": "python",
   "nbconvert_exporter": "python",
   "pygments_lexer": "ipython3",
   "version": "3.6.7"
  }
 },
 "nbformat": 4,
 "nbformat_minor": 2
}
